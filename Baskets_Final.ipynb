{
 "cells": [
  {
   "cell_type": "markdown",
   "metadata": {},
   "source": [
    "## Natural Language Processing of Commerical Legal Contracts\n",
    "_Author: Weicheng Wang_\n",
    "\n",
    "---"
   ]
  },
  {
   "cell_type": "markdown",
   "metadata": {},
   "source": [
    "## 1. Introduction\n",
    "\n",
    "Modern commercial legal contracts are very long and complex agreements. A typical merger and acquistition ('M&A') contract can be over 100 pages long, and useful information can be buried in blocks of long text. \n",
    "\n",
    "Sometimes, lawyers will want to know information that can only be accessed by aggregating hundreds, or even thousands of agreements. For instance, how many major M&As have been governed by Delaware law in the last year? How many M&As have stringent indemnification provisions?\n",
    "\n",
    "Traditionally, owing to the difficulty of parsing unstructured text data, this information could only be gleaned manually and at great cost. Teams of contract attorneys would be hired to painstakingly read thousands of agreements and manually tag data points. Now, law firms are increasingly turning to machine learning to speed up the process.\n",
    "\n",
    "---\n",
    "\n",
    "In this exercise, we will attempt to positively identify one particular data point from a sample of merger agreements. The data point we seek is called a 'basket', and it lies in a section of the merger agreement known as the 'indemnification' section. \n",
    "\n",
    "As background, indemnification is a legal concept which states that when something goes wrong according to a set of pre-set conditions in a contract, the party providing indemnification will cover the costs for the person who was wronged.\n",
    "\n",
    "A basket, in the context of indemnification, is like a healthcare deductible: you must meet a threshhold before insurance will begin paying.\n",
    "\n",
    "Below is an example of an actual basket in an indemnification provision in *italics*:\n",
    "\n",
    "9.6.          Limitation on Indemnity. \n",
    "    \n",
    "   (a)          Notwithstanding anything to the contrary set forth herein, the Indemnified Parties shall not make a claim against the Company Holders or Buyer, as applicable, for indemnification for Buyer Losses or Holder Losses, as the case may be, under this Agreement *unless and until the aggregate amount of such Buyer Losses or Holder Losses, as the case may be, exceeds 500,000 (the “Basket”)*, in which event the Indemnified Parties may claim indemnification for all Buyer Losses or Holder Losses, as the case may be, including those credited toward the Basket...'"
   ]
  },
  {
   "cell_type": "markdown",
   "metadata": {},
   "source": [
    "## 2. Data Exploration & Analysis"
   ]
  },
  {
   "cell_type": "code",
   "execution_count": 1,
   "metadata": {
    "collapsed": false
   },
   "outputs": [
    {
     "ename": "ImportError",
     "evalue": "No module named pandas",
     "output_type": "error",
     "traceback": [
      "\u001b[0;31m---------------------------------------------------------------------------\u001b[0m",
      "\u001b[0;31mImportError\u001b[0m                               Traceback (most recent call last)",
      "\u001b[0;32m<ipython-input-1-01a4fc6dce0a>\u001b[0m in \u001b[0;36m<module>\u001b[0;34m()\u001b[0m\n\u001b[1;32m      1\u001b[0m \u001b[0;31m# import packages\u001b[0m\u001b[0;34m\u001b[0m\u001b[0;34m\u001b[0m\u001b[0m\n\u001b[1;32m      2\u001b[0m \u001b[0;34m\u001b[0m\u001b[0m\n\u001b[0;32m----> 3\u001b[0;31m \u001b[0;32mimport\u001b[0m \u001b[0mpandas\u001b[0m \u001b[0;32mas\u001b[0m \u001b[0mpd\u001b[0m\u001b[0;34m\u001b[0m\u001b[0m\n\u001b[0m\u001b[1;32m      4\u001b[0m \u001b[0;32mimport\u001b[0m \u001b[0mnumpy\u001b[0m \u001b[0;32mas\u001b[0m \u001b[0mnp\u001b[0m\u001b[0;34m\u001b[0m\u001b[0m\n\u001b[1;32m      5\u001b[0m \u001b[0;32mimport\u001b[0m \u001b[0mscipy\u001b[0m \u001b[0;32mas\u001b[0m \u001b[0msp\u001b[0m\u001b[0;34m\u001b[0m\u001b[0m\n",
      "\u001b[0;31mImportError\u001b[0m: No module named pandas"
     ]
    }
   ],
   "source": [
    "# import packages\n",
    "\n",
    "import pandas as pd\n",
    "import numpy as np\n",
    "import scipy as sp\n",
    "from sklearn.model_selection import train_test_split\n",
    "from sklearn.feature_extraction.text import CountVectorizer, TfidfVectorizer\n",
    "from sklearn.naive_bayes import MultinomialNB\n",
    "from sklearn.linear_model import LogisticRegression\n",
    "from sklearn import datasets, preprocessing, metrics\n",
    "from textblob import TextBlob, Word\n",
    "from nltk.stem.snowball import SnowballStemmer\n",
    "from nltk.stem.wordnet import WordNetLemmatizer\n",
    "\n",
    "%matplotlib inline"
   ]
  },
  {
   "cell_type": "code",
   "execution_count": 194,
   "metadata": {
    "collapsed": true
   },
   "outputs": [],
   "source": [
    "df = pd.read_excel('/Users/wangw6/Downloads/Indemnification Basket Examples.xlsx')\n",
    "\n",
    "# for our initial analysis, we will use a dataframe that only contains text \n",
    "#(there are some columns that are not relevant that we will drop)"
   ]
  },
  {
   "cell_type": "code",
   "execution_count": 195,
   "metadata": {
    "collapsed": false
   },
   "outputs": [
    {
     "data": {
      "text/plain": [
       "(1005, 3)"
      ]
     },
     "execution_count": 195,
     "metadata": {},
     "output_type": "execute_result"
    }
   ],
   "source": [
    "df.shape"
   ]
  },
  {
   "cell_type": "code",
   "execution_count": 196,
   "metadata": {
    "collapsed": false
   },
   "outputs": [
    {
     "data": {
      "text/html": [
       "<div>\n",
       "<style scoped>\n",
       "    .dataframe tbody tr th:only-of-type {\n",
       "        vertical-align: middle;\n",
       "    }\n",
       "\n",
       "    .dataframe tbody tr th {\n",
       "        vertical-align: top;\n",
       "    }\n",
       "\n",
       "    .dataframe thead th {\n",
       "        text-align: right;\n",
       "    }\n",
       "</style>\n",
       "<table border=\"1\" class=\"dataframe\">\n",
       "  <thead>\n",
       "    <tr style=\"text-align: right;\">\n",
       "      <th></th>\n",
       "      <th>DocClause</th>\n",
       "      <th>Length</th>\n",
       "      <th>IsBasket</th>\n",
       "    </tr>\n",
       "  </thead>\n",
       "  <tbody>\n",
       "    <tr>\n",
       "      <th>0</th>\n",
       "      <td>ARTICLE 10 INDEMNIFICATION AND OTHER REMEDIES....</td>\n",
       "      <td>679</td>\n",
       "      <td>0</td>\n",
       "    </tr>\n",
       "    <tr>\n",
       "      <th>1</th>\n",
       "      <td>5. Indemnification, Etc ➤ 5.5 Limitations on I...</td>\n",
       "      <td>875</td>\n",
       "      <td>0</td>\n",
       "    </tr>\n",
       "    <tr>\n",
       "      <th>2</th>\n",
       "      <td>ARTICLE VII INDEMNIFICATION ➤ Section 7.2 Inde...</td>\n",
       "      <td>330</td>\n",
       "      <td>0</td>\n",
       "    </tr>\n",
       "    <tr>\n",
       "      <th>3</th>\n",
       "      <td>ARTICLE XII. INDEMNIFICATION ➤ 12.3 Indemnific...</td>\n",
       "      <td>1427</td>\n",
       "      <td>0</td>\n",
       "    </tr>\n",
       "    <tr>\n",
       "      <th>4</th>\n",
       "      <td>ARTICLE X INDEMNIFICATION ➤ 10.2 Survival and ...</td>\n",
       "      <td>332</td>\n",
       "      <td>0</td>\n",
       "    </tr>\n",
       "  </tbody>\n",
       "</table>\n",
       "</div>"
      ],
      "text/plain": [
       "                                           DocClause  Length  IsBasket\n",
       "0  ARTICLE 10 INDEMNIFICATION AND OTHER REMEDIES....     679         0\n",
       "1  5. Indemnification, Etc ➤ 5.5 Limitations on I...     875         0\n",
       "2  ARTICLE VII INDEMNIFICATION ➤ Section 7.2 Inde...     330         0\n",
       "3  ARTICLE XII. INDEMNIFICATION ➤ 12.3 Indemnific...    1427         0\n",
       "4  ARTICLE X INDEMNIFICATION ➤ 10.2 Survival and ...     332         0"
      ]
     },
     "execution_count": 196,
     "metadata": {},
     "output_type": "execute_result"
    }
   ],
   "source": [
    "df.head()"
   ]
  },
  {
   "cell_type": "code",
   "execution_count": 197,
   "metadata": {
    "collapsed": false
   },
   "outputs": [
    {
     "data": {
      "text/plain": [
       "DocClause    0\n",
       "Length       0\n",
       "IsBasket     0\n",
       "dtype: int64"
      ]
     },
     "execution_count": 197,
     "metadata": {},
     "output_type": "execute_result"
    }
   ],
   "source": [
    "df.isnull().sum()\n",
    "\n",
    "#let's check if we have any nulls"
   ]
  },
  {
   "cell_type": "code",
   "execution_count": 198,
   "metadata": {
    "collapsed": false
   },
   "outputs": [
    {
     "name": "stdout",
     "output_type": "stream",
     "text": [
      "0    0.503483\n",
      "1    0.496517\n",
      "Name: IsBasket, dtype: float64\n",
      "0    506\n",
      "1    499\n",
      "Name: IsBasket, dtype: int64\n"
     ]
    }
   ],
   "source": [
    "print(df['IsBasket'].value_counts(normalize=True))\n",
    "print(df['IsBasket'].value_counts())\n",
    "\n",
    "#'0' means the clause has been manually tagged as NOT containing a basket. '1' means it has a basket."
   ]
  },
  {
   "cell_type": "code",
   "execution_count": 199,
   "metadata": {
    "collapsed": false
   },
   "outputs": [
    {
     "data": {
      "text/plain": [
       "CountVectorizer(analyzer='word', binary=False, decode_error='strict',\n",
       "        dtype=<class 'numpy.int64'>, encoding='utf-8', input='content',\n",
       "        lowercase=False, max_df=1.0, max_features=None, min_df=1,\n",
       "        ngram_range=(1, 1), preprocessor=None, stop_words='english',\n",
       "        strip_accents=None, token_pattern='(?u)\\\\b\\\\w\\\\w+\\\\b',\n",
       "        tokenizer=None, vocabulary=None)"
      ]
     },
     "execution_count": 199,
     "metadata": {},
     "output_type": "execute_result"
    }
   ],
   "source": [
    "vect = CountVectorizer(stop_words = 'english', lowercase=False)\n",
    "\n",
    "vect\n",
    "\n",
    "# Let's import CountVerctorizer so we can begin analyzing the text"
   ]
  },
  {
   "cell_type": "code",
   "execution_count": 200,
   "metadata": {
    "collapsed": true
   },
   "outputs": [],
   "source": [
    "# Define X and y.\n",
    "X = df['DocClause'].fillna(' ')\n",
    "y = df['IsBasket']\n",
    "\n",
    "# Split the new DataFrame into training and testing sets.\n",
    "X_train, X_test, y_train, y_test = train_test_split(X, y, random_state=2)"
   ]
  },
  {
   "cell_type": "code",
   "execution_count": 201,
   "metadata": {
    "collapsed": false
   },
   "outputs": [
    {
     "data": {
      "text/plain": [
       "(753, 3182)"
      ]
     },
     "execution_count": 201,
     "metadata": {},
     "output_type": "execute_result"
    }
   ],
   "source": [
    "X_train_dtm = vect.fit_transform(X_train)\n",
    "X_test_dtm = vect.transform(X_test)\n",
    "X_train_dtm.shape"
   ]
  },
  {
   "cell_type": "code",
   "execution_count": 202,
   "metadata": {
    "collapsed": false
   },
   "outputs": [
    {
     "name": "stdout",
     "output_type": "stream",
     "text": [
      "Section            2107\n",
      "shall              1928\n",
      "Losses             1306\n",
      "Indemnified        1085\n",
      "aggregate          1010\n",
      "000                 916\n",
      "indemnification     913\n",
      "Damages             835\n",
      "Parent              751\n",
      "Limitations         743\n",
      "respect             664\n",
      "Parties             643\n",
      "ARTICLE             639\n",
      "exceed              616\n",
      "pursuant            610\n",
      "Indemnification     592\n",
      "INDEMNIFICATION     592\n",
      "Amount              534\n",
      "Company             513\n",
      "Basket              504\n",
      "dtype: int64\n",
      "AxesSubplot(0.125,0.125;0.775x0.755)\n"
     ]
    },
    {
     "data": {
      "image/png": "[encoded data removed]",
      "text/plain": [
       "<Figure size 432x288 with 1 Axes>"
      ]
     },
     "metadata": {},
     "output_type": "display_data"
    }
   ],
   "source": [
    "# Making bar graphs of the 20 most frequently appearing words for both basket and non-basket language\n",
    "\n",
    "basket_words = pd.DataFrame(vect.transform(df['DocClause'].loc[df['IsBasket'] == 1].fillna(' ')).todense(),\n",
    "                       columns=vect.get_feature_names())\n",
    "\n",
    "word_counts1 = basket_words.sum(axis=0)\n",
    "print(word_counts1.sort_values(ascending = False).head(20))\n",
    "print(word_counts1.sort_values(ascending = False).head(20).plot.bar())"
   ]
  },
  {
   "cell_type": "code",
   "execution_count": 203,
   "metadata": {
    "collapsed": false
   },
   "outputs": [
    {
     "name": "stdout",
     "output_type": "stream",
     "text": [
      "shall              847\n",
      "Section            834\n",
      "Limitations        675\n",
      "INDEMNIFICATION    593\n",
      "ARTICLE            536\n",
      "Agreement          506\n",
      "Party              505\n",
      "Indemnified        480\n",
      "claim              432\n",
      "indemnification    423\n",
      "respect            422\n",
      "Indemnification    401\n",
      "Company            387\n",
      "Parent             381\n",
      "Closing            330\n",
      "Time               304\n",
      "10                 300\n",
      "party              261\n",
      "Claim              240\n",
      "Article            238\n",
      "dtype: int64\n",
      "AxesSubplot(0.125,0.125;0.775x0.755)\n"
     ]
    },
    {
     "data": {
      "image/png": "[encoded data removed]",
      "text/plain": [
       "<Figure size 432x288 with 1 Axes>"
      ]
     },
     "metadata": {},
     "output_type": "display_data"
    }
   ],
   "source": [
    "non_basket_words = pd.DataFrame(vect.transform(df['DocClause'].loc[df['IsBasket'] == 0].fillna(' ')).todense(),\n",
    "                       columns=vect.get_feature_names())\n",
    "\n",
    "word_counts2 = non_basket_words.sum(axis=0)\n",
    "print(word_counts2.sort_values(ascending = False).head(20))\n",
    "print(word_counts2.sort_values(ascending = False).head(20).plot.bar())"
   ]
  },
  {
   "cell_type": "markdown",
   "metadata": {},
   "source": [
    "We can see already that the two sets have some different words. The most obvious is that basket_words contains the word 'basket', which is not present in the top 20 for non_basket. Also, basket_words contains more instances of '000', which may indicate there are more dollar amounts in basket language."
   ]
  },
  {
   "cell_type": "markdown",
   "metadata": {},
   "source": [
    "## 3a. Predictive Model"
   ]
  },
  {
   "cell_type": "code",
   "execution_count": 204,
   "metadata": {
    "collapsed": false
   },
   "outputs": [
    {
     "data": {
      "text/plain": [
       "0.9404761904761905"
      ]
     },
     "execution_count": 204,
     "metadata": {},
     "output_type": "execute_result"
    }
   ],
   "source": [
    "nb = MultinomialNB()\n",
    "nb.fit(X_train_dtm, y_train)\n",
    "y_pred = nb.predict(X_test_dtm)\n",
    "\n",
    "# Calculate accuracy.\n",
    "metrics.accuracy_score(y_test, y_pred)"
   ]
  },
  {
   "cell_type": "code",
   "execution_count": 205,
   "metadata": {
    "collapsed": false
   },
   "outputs": [
    {
     "data": {
      "text/plain": [
       "0.4880952380952381"
      ]
     },
     "execution_count": 205,
     "metadata": {},
     "output_type": "execute_result"
    }
   ],
   "source": [
    "# the model significantly outperforms the dummy.\n",
    "\n",
    "from sklearn.dummy import DummyClassifier\n",
    "\n",
    "dummy = DummyClassifier()\n",
    "dummy.fit(X_train_dtm, y_train).score(X_test_dtm, y_test)"
   ]
  },
  {
   "cell_type": "code",
   "execution_count": 206,
   "metadata": {
    "collapsed": false
   },
   "outputs": [
    {
     "data": {
      "text/plain": [
       "Text(0.5,15,'Predicted label')"
      ]
     },
     "execution_count": 206,
     "metadata": {},
     "output_type": "execute_result"
    },
    {
     "data": {
      "image/png": "[encoded data removed]",
      "text/plain": [
       "<Figure size 432x288 with 2 Axes>"
      ]
     },
     "metadata": {},
     "output_type": "display_data"
    }
   ],
   "source": [
    "# We do seem to predict a few false positives\n",
    "\n",
    "import seaborn as sns\n",
    "import matplotlib.pyplot as plt\n",
    "\n",
    "cm = metrics.confusion_matrix(y_test, y_pred)\n",
    "\n",
    "sns.heatmap(cm, annot=True, fmt=\"d\", linewidths=.5, cmap=\"Blues\")\n",
    "\n",
    "plt.ylabel('True label')\n",
    "plt.xlabel('Predicted label')"
   ]
  },
  {
   "cell_type": "code",
   "execution_count": 207,
   "metadata": {
    "collapsed": false
   },
   "outputs": [
    {
     "data": {
      "text/plain": [
       "0.9523809523809523"
      ]
     },
     "execution_count": 207,
     "metadata": {},
     "output_type": "execute_result"
    }
   ],
   "source": [
    "# Let's try again with 1 & 2 ngrams (unique). The result further improves\n",
    "vect = CountVectorizer(ngram_range=(1,2), min_df = 2, stop_words = 'english', lowercase=False)\n",
    "\n",
    "X_train_dtm = vect.fit_transform(X_train)\n",
    "X_test_dtm = vect.transform(X_test)\n",
    "\n",
    "nb = MultinomialNB()\n",
    "nb.fit(X_train_dtm, y_train)\n",
    "y_pred = nb.predict(X_test_dtm)\n",
    "\n",
    "metrics.accuracy_score(y_test, y_pred)"
   ]
  },
  {
   "cell_type": "code",
   "execution_count": 208,
   "metadata": {
    "collapsed": false
   },
   "outputs": [
    {
     "data": {
      "text/plain": [
       "0.9761904761904762"
      ]
     },
     "execution_count": 208,
     "metadata": {},
     "output_type": "execute_result"
    }
   ],
   "source": [
    "# It appears a logistic regression gives a better result still.\n",
    "# Note that the result is not actually 100%, but slightly lower due to rounding\n",
    "\n",
    "from sklearn.linear_model import LogisticRegression\n",
    "lr = LogisticRegression()\n",
    "lr.fit(X_train_dtm, y_train)\n",
    "lr.score(X_test_dtm, y_test)"
   ]
  },
  {
   "cell_type": "code",
   "execution_count": 209,
   "metadata": {
    "collapsed": false
   },
   "outputs": [
    {
     "data": {
      "text/plain": [
       "Text(0.5,15,'Predicted label')"
      ]
     },
     "execution_count": 209,
     "metadata": {},
     "output_type": "execute_result"
    },
    {
     "data": {
      "image/png": "[encoded data removed]",
      "text/plain": [
       "<Figure size 432x288 with 2 Axes>"
      ]
     },
     "metadata": {},
     "output_type": "display_data"
    }
   ],
   "source": [
    "cm = metrics.confusion_matrix(y_test, y_pred)\n",
    "\n",
    "sns.heatmap(cm, annot=True, fmt=\"d\", linewidths=.5, cmap=\"Blues\")\n",
    "\n",
    "plt.ylabel('True label')\n",
    "plt.xlabel('Predicted label')"
   ]
  },
  {
   "cell_type": "code",
   "execution_count": 210,
   "metadata": {
    "collapsed": false
   },
   "outputs": [
    {
     "name": "stdout",
     "output_type": "stream",
     "text": [
      "ARTICLE 10 INDEMNIFICATION AND OTHER REMEDIES. ➤ 10.10 Further Limitations\n",
      "10.10 Further Limitations . Notwithstanding anything to the contrary contained herein, no Indemnifying Party shall be liable to or otherwise responsible hereunder to any Indemnified Party for (i) incidental, consequential, special or indirect Losses, business interruption loss, loss of future revenue, diminution in value, lost profits or income, or loss of business reputation or opportunity or damages based on a multiplier of earnings or other financial measure that arise out of or related to this Agreement (other than any such Losses actually paid to a third party or in the case of Fraud), or...\n",
      "\n"
     ]
    }
   ],
   "source": [
    "# Let's try lemmatizing the results to see if we get any improvement\n",
    "\n",
    "clause = df['DocClause'].iloc[0]\n",
    "print(clause)"
   ]
  },
  {
   "cell_type": "code",
   "execution_count": 211,
   "metadata": {
    "collapsed": false
   },
   "outputs": [
    {
     "data": {
      "text/plain": [
       "['ARTICLE',\n",
       " '10',\n",
       " 'INDEMNIFICATION',\n",
       " 'AND',\n",
       " 'OTHER',\n",
       " 'REMEDIES',\n",
       " '.',\n",
       " '➤',\n",
       " '10.10',\n",
       " 'Further',\n",
       " 'Limitations',\n",
       " '10.10',\n",
       " 'Further',\n",
       " 'Limitations',\n",
       " '.',\n",
       " 'Notwithstanding',\n",
       " 'anything',\n",
       " 'to',\n",
       " 'the',\n",
       " 'contrary',\n",
       " 'contained',\n",
       " 'herein',\n",
       " ',',\n",
       " 'no',\n",
       " 'Indemnifying',\n",
       " 'Party',\n",
       " 'shall',\n",
       " 'be',\n",
       " 'liable',\n",
       " 'to',\n",
       " 'or',\n",
       " 'otherwise',\n",
       " 'responsible',\n",
       " 'hereunder',\n",
       " 'to',\n",
       " 'any',\n",
       " 'Indemnified',\n",
       " 'Party',\n",
       " 'for',\n",
       " '(',\n",
       " 'i',\n",
       " ')',\n",
       " 'incidental',\n",
       " ',',\n",
       " 'consequential',\n",
       " ',',\n",
       " 'special',\n",
       " 'or',\n",
       " 'indirect',\n",
       " 'Losses',\n",
       " ',',\n",
       " 'business',\n",
       " 'interruption',\n",
       " 'loss',\n",
       " ',',\n",
       " 'loss',\n",
       " 'of',\n",
       " 'future',\n",
       " 'revenue',\n",
       " ',',\n",
       " 'diminution',\n",
       " 'in',\n",
       " 'value',\n",
       " ',',\n",
       " 'lost',\n",
       " 'profits',\n",
       " 'or',\n",
       " 'income',\n",
       " ',',\n",
       " 'or',\n",
       " 'loss',\n",
       " 'of',\n",
       " 'business',\n",
       " 'reputation',\n",
       " 'or',\n",
       " 'opportunity',\n",
       " 'or',\n",
       " 'damages',\n",
       " 'based',\n",
       " 'on',\n",
       " 'a',\n",
       " 'multiplier',\n",
       " 'of',\n",
       " 'earnings',\n",
       " 'or',\n",
       " 'other',\n",
       " 'financial',\n",
       " 'measure',\n",
       " 'that',\n",
       " 'arise',\n",
       " 'out',\n",
       " 'of',\n",
       " 'or',\n",
       " 'related',\n",
       " 'to',\n",
       " 'this',\n",
       " 'Agreement',\n",
       " '(',\n",
       " 'other',\n",
       " 'than',\n",
       " 'any',\n",
       " 'such',\n",
       " 'Losses',\n",
       " 'actually',\n",
       " 'paid',\n",
       " 'to',\n",
       " 'a',\n",
       " 'third',\n",
       " 'party',\n",
       " 'or',\n",
       " 'in',\n",
       " 'the',\n",
       " 'case',\n",
       " 'of',\n",
       " 'Fraud',\n",
       " ')',\n",
       " ',',\n",
       " 'or',\n",
       " '...']"
      ]
     },
     "execution_count": 211,
     "metadata": {},
     "output_type": "execute_result"
    }
   ],
   "source": [
    "import nltk\n",
    "from nltk.tokenize import word_tokenize\n",
    "word_tokenize(clause)"
   ]
  },
  {
   "cell_type": "code",
   "execution_count": 212,
   "metadata": {
    "collapsed": true
   },
   "outputs": [],
   "source": [
    "import re\n",
    "words = re.compile('\\w+').findall(clause)"
   ]
  },
  {
   "cell_type": "code",
   "execution_count": 213,
   "metadata": {
    "collapsed": false
   },
   "outputs": [
    {
     "data": {
      "text/plain": [
       "['ARTICLE',\n",
       " '10',\n",
       " 'INDEMNIFICATION',\n",
       " 'AND',\n",
       " 'OTHER',\n",
       " 'REMEDIES',\n",
       " '10',\n",
       " '10',\n",
       " 'Further',\n",
       " 'Limitations',\n",
       " '10',\n",
       " '10',\n",
       " 'Further',\n",
       " 'Limitations',\n",
       " 'Notwithstanding',\n",
       " 'anything',\n",
       " 'to',\n",
       " 'the',\n",
       " 'contrary',\n",
       " 'contain',\n",
       " 'herein',\n",
       " 'no',\n",
       " 'Indemnifying',\n",
       " 'Party',\n",
       " 'shall',\n",
       " 'be',\n",
       " 'liable',\n",
       " 'to',\n",
       " 'or',\n",
       " 'otherwise',\n",
       " 'responsible',\n",
       " 'hereunder',\n",
       " 'to',\n",
       " 'any',\n",
       " 'Indemnified',\n",
       " 'Party',\n",
       " 'for',\n",
       " 'i',\n",
       " 'incidental',\n",
       " 'consequential',\n",
       " 'special',\n",
       " 'or',\n",
       " 'indirect',\n",
       " 'Losses',\n",
       " 'business',\n",
       " 'interruption',\n",
       " 'loss',\n",
       " 'loss',\n",
       " 'of',\n",
       " 'future',\n",
       " 'revenue',\n",
       " 'diminution',\n",
       " 'in',\n",
       " 'value',\n",
       " 'lose',\n",
       " 'profit',\n",
       " 'or',\n",
       " 'income',\n",
       " 'or',\n",
       " 'loss',\n",
       " 'of',\n",
       " 'business',\n",
       " 'reputation',\n",
       " 'or',\n",
       " 'opportunity',\n",
       " 'or',\n",
       " 'damage',\n",
       " 'base',\n",
       " 'on',\n",
       " 'a',\n",
       " 'multiplier',\n",
       " 'of',\n",
       " 'earn',\n",
       " 'or',\n",
       " 'other',\n",
       " 'financial',\n",
       " 'measure',\n",
       " 'that',\n",
       " 'arise',\n",
       " 'out',\n",
       " 'of',\n",
       " 'or',\n",
       " 'relate',\n",
       " 'to',\n",
       " 'this',\n",
       " 'Agreement',\n",
       " 'other',\n",
       " 'than',\n",
       " 'any',\n",
       " 'such',\n",
       " 'Losses',\n",
       " 'actually',\n",
       " 'pay',\n",
       " 'to',\n",
       " 'a',\n",
       " 'third',\n",
       " 'party',\n",
       " 'or',\n",
       " 'in',\n",
       " 'the',\n",
       " 'case',\n",
       " 'of',\n",
       " 'Fraud',\n",
       " 'or']"
      ]
     },
     "execution_count": 213,
     "metadata": {},
     "output_type": "execute_result"
    }
   ],
   "source": [
    "lemmatizer = WordNetLemmatizer()\n",
    "[lemmatizer.lemmatize(word, 'v') for word in words]"
   ]
  },
  {
   "cell_type": "code",
   "execution_count": 214,
   "metadata": {
    "collapsed": false
   },
   "outputs": [
    {
     "data": {
      "text/plain": [
       "0.9523809523809523"
      ]
     },
     "execution_count": 214,
     "metadata": {},
     "output_type": "execute_result"
    }
   ],
   "source": [
    "# Use default options for CountVectorizer.\n",
    "vect = CountVectorizer(ngram_range=(1,2), min_df=2, stop_words = 'english', lowercase=False)\n",
    "\n",
    "# Create document-term matrices.\n",
    "X_train_dtm = vect.fit_transform(X_train)\n",
    "X_test_dtm = vect.transform(X_test)\n",
    "\n",
    "nb = MultinomialNB()\n",
    "nb.fit(X_train_dtm, y_train)\n",
    "y_pred = nb.predict(X_test_dtm)\n",
    "\n",
    "# Calculate accuracy.\n",
    "metrics.accuracy_score(y_test, y_pred)"
   ]
  },
  {
   "cell_type": "code",
   "execution_count": 215,
   "metadata": {
    "collapsed": false
   },
   "outputs": [
    {
     "data": {
      "text/plain": [
       "(753, 8080)"
      ]
     },
     "execution_count": 215,
     "metadata": {},
     "output_type": "execute_result"
    }
   ],
   "source": [
    "vect = CountVectorizer(ngram_range=(1, 2), min_df=2, stop_words='english')\n",
    "\n",
    "X_train_dtm = vect.fit_transform(X_train)\n",
    "X_test_dtm = vect.transform(X_test)\n",
    "\n",
    "X_train_dtm.shape"
   ]
  },
  {
   "cell_type": "code",
   "execution_count": 216,
   "metadata": {
    "collapsed": false
   },
   "outputs": [
    {
     "data": {
      "text/plain": [
       "['xii survival',\n",
       " 'xii unless',\n",
       " 'xiii',\n",
       " 'xiii section',\n",
       " 'xv',\n",
       " 'xv indemnification',\n",
       " 'yea',\n",
       " 'year',\n",
       " 'year anniversary',\n",
       " 'year includible',\n",
       " 'year indemnification',\n",
       " 'year loss',\n",
       " 'years',\n",
       " 'years closing',\n",
       " 'years following',\n",
       " 'years notwithstanding',\n",
       " 'years period',\n",
       " 'york',\n",
       " 'york ny',\n",
       " 'zero']"
      ]
     },
     "execution_count": 216,
     "metadata": {},
     "output_type": "execute_result"
    }
   ],
   "source": [
    "vect.get_feature_names()[-20:]"
   ]
  },
  {
   "cell_type": "code",
   "execution_count": 217,
   "metadata": {
    "collapsed": false
   },
   "outputs": [
    {
     "data": {
      "text/plain": [
       "0.9642857142857143"
      ]
     },
     "execution_count": 217,
     "metadata": {},
     "output_type": "execute_result"
    }
   ],
   "source": [
    "nb.fit(X_train_dtm, y_train)\n",
    "y_pred = nb.predict(X_test_dtm)\n",
    "\n",
    "metrics.accuracy_score(y_test, y_pred)"
   ]
  },
  {
   "cell_type": "code",
   "execution_count": 218,
   "metadata": {
    "collapsed": false
   },
   "outputs": [
    {
     "data": {
      "text/plain": [
       "Text(0.5,15,'Predicted label')"
      ]
     },
     "execution_count": 218,
     "metadata": {},
     "output_type": "execute_result"
    },
    {
     "data": {
      "image/png": "[encoded data removed]",
      "text/plain": [
       "<Figure size 432x288 with 2 Axes>"
      ]
     },
     "metadata": {},
     "output_type": "display_data"
    }
   ],
   "source": [
    "import seaborn as sns\n",
    "import matplotlib.pyplot as plt\n",
    "\n",
    "cm = metrics.confusion_matrix(y_test, y_pred)\n",
    "\n",
    "sns.heatmap(cm, annot=True, fmt=\"d\", linewidths=.5, cmap=\"Blues\")\n",
    "\n",
    "plt.ylabel('True label')\n",
    "plt.xlabel('Predicted label')"
   ]
  },
  {
   "cell_type": "code",
   "execution_count": 219,
   "metadata": {
    "collapsed": true
   },
   "outputs": [],
   "source": [
    "import re\n",
    "\n",
    "def split_into_lemmas(text):\n",
    "    \n",
    "    # split text into individual words in a list\n",
    "    words = re.compile('\\w+').findall(text)\n",
    "    \n",
    "    # lemmatize\n",
    "    return [lemmatizer.lemmatize(word, 'v') for word in words]"
   ]
  },
  {
   "cell_type": "code",
   "execution_count": 220,
   "metadata": {
    "collapsed": true
   },
   "outputs": [],
   "source": [
    "def tokenize_test(vect):\n",
    "    \n",
    "    X_train_dtm = vect.fit_transform(X_train)\n",
    "    \n",
    "    print('Features: ', X_train_dtm.shape[1])\n",
    "    \n",
    "    X_test_dtm = vect.transform(X_test)\n",
    "    \n",
    "    nb = MultinomialNB()\n",
    "    \n",
    "    nb.fit(X_train_dtm, y_train)\n",
    "    \n",
    "    y_pred = nb.predict(X_test_dtm)\n",
    "    \n",
    "    print('Accuracy: ', metrics.accuracy_score(y_test, y_pred))"
   ]
  },
  {
   "cell_type": "code",
   "execution_count": 221,
   "metadata": {
    "collapsed": false
   },
   "outputs": [
    {
     "data": {
      "text/plain": [
       "['arise breach',\n",
       " 'arise dollar',\n",
       " 'arise fr',\n",
       " 'arise material',\n",
       " 'arise result',\n",
       " 'arise thereunder',\n",
       " 'arises',\n",
       " 'arises connection',\n",
       " 'arising',\n",
       " 'arising actual',\n",
       " 'arising agreement',\n",
       " 'arising article',\n",
       " 'arising attributable',\n",
       " 'arising based',\n",
       " 'arising breach',\n",
       " 'arising breaches',\n",
       " 'arising claim',\n",
       " 'arising claims',\n",
       " 'arising connection',\n",
       " 'arising directly',\n",
       " 'arising facts',\n",
       " 'arising following',\n",
       " 'arising fraud',\n",
       " 'arising inaccuracies',\n",
       " 'arising inaccuracy',\n",
       " 'arising incurrence',\n",
       " 'arising indemnifiable',\n",
       " 'arising indemnification',\n",
       " 'arising intentional',\n",
       " 'arising matters',\n",
       " 'arising party',\n",
       " 'arising pursuant',\n",
       " 'arising qualifying',\n",
       " 'arising related',\n",
       " 'arising relating',\n",
       " 'arising respect',\n",
       " 'arising resulting',\n",
       " 'arising section',\n",
       " 'arising set',\n",
       " 'arising similar',\n",
       " 'arising substantially',\n",
       " 'arising way',\n",
       " 'arose',\n",
       " 'arose reason',\n",
       " 'arrangements',\n",
       " 'arrangements indemnification',\n",
       " 'arrangements limitations',\n",
       " 'article',\n",
       " 'article 10',\n",
       " 'article 11',\n",
       " 'article 12',\n",
       " 'article 13',\n",
       " 'article agreement',\n",
       " 'article breaches',\n",
       " 'article buyer',\n",
       " 'article case',\n",
       " 'article certain',\n",
       " 'article contrary',\n",
       " 'article defined',\n",
       " 'article definitions',\n",
       " 'article escrow',\n",
       " 'article exceed',\n",
       " 'article holdback',\n",
       " 'article ii',\n",
       " 'article iii',\n",
       " 'article indemnification',\n",
       " 'article indemnified',\n",
       " 'article indemnifying',\n",
       " 'article iv',\n",
       " 'article ix',\n",
       " 'article maximum',\n",
       " 'article merger',\n",
       " 'article minus',\n",
       " 'article notwithstanding',\n",
       " 'article parent',\n",
       " 'article provided',\n",
       " 'article provisions',\n",
       " 'article purchaser',\n",
       " 'article redomestication',\n",
       " 'article representations',\n",
       " 'article respect',\n",
       " 'article section',\n",
       " 'article set',\n",
       " 'article shall',\n",
       " 'article sole',\n",
       " 'article survival',\n",
       " 'article unless',\n",
       " 'article vi',\n",
       " 'article vii',\n",
       " 'article viii',\n",
       " 'article xi',\n",
       " 'article xii',\n",
       " 'article xiii',\n",
       " 'article xv',\n",
       " 'articles',\n",
       " 'ascend',\n",
       " 'assert',\n",
       " 'assert claim',\n",
       " 'assert claims',\n",
       " 'asserted',\n",
       " 'asserted breach',\n",
       " 'asserted buyer',\n",
       " 'asserted ces',\n",
       " 'asserted connection',\n",
       " 'asserted date',\n",
       " 'asserted liability',\n",
       " 'asserted paid',\n",
       " 'asserted parent',\n",
       " 'asserted party',\n",
       " 'asserted section',\n",
       " 'asserted securityholder',\n",
       " 'asserted seller',\n",
       " 'asserted stockholder',\n",
       " 'asserting',\n",
       " 'asserting claims',\n",
       " 'asserting indemnification',\n",
       " 'assertion',\n",
       " 'assertion claim',\n",
       " 'assertion claims',\n",
       " 'assertion seller',\n",
       " 'asserts',\n",
       " 'assessments',\n",
       " 'assets',\n",
       " 'assign',\n",
       " 'assign party',\n",
       " 'assigned',\n",
       " 'assigned operation',\n",
       " 'assignees',\n",
       " 'assignment',\n",
       " 'assigns',\n",
       " 'assigns affiliates',\n",
       " 'assigns foregoing',\n",
       " 'assigns seller',\n",
       " 'associated',\n",
       " 'associated obtaining',\n",
       " 'associated therewith',\n",
       " 'assume',\n",
       " 'assume conduct',\n",
       " 'assume control',\n",
       " 'assume defense',\n",
       " 'assuming',\n",
       " 'assumption',\n",
       " 'attached',\n",
       " 'attached hereto',\n",
       " 'attention',\n",
       " 'attention chinta',\n",
       " 'attention jay',\n",
       " 'attention stephen',\n",
       " 'attorney',\n",
       " 'attorneys',\n",
       " 'attorneys accountants',\n",
       " 'attorneys fees',\n",
       " 'attributable',\n",
       " 'attributable negligent',\n",
       " 'attributable resulting',\n",
       " 'audit',\n",
       " 'audited',\n",
       " 'audited financial',\n",
       " 'auditors',\n",
       " 'audits',\n",
       " 'august',\n",
       " 'august 13',\n",
       " 'august 2013',\n",
       " 'authority',\n",
       " 'authority enforceability',\n",
       " 'authority section',\n",
       " 'authority subsidiaries',\n",
       " 'authorization',\n",
       " 'authorization section',\n",
       " 'authorization transaction',\n",
       " 'authorize',\n",
       " 'authorize delivery',\n",
       " 'authorized',\n",
       " 'authorized action',\n",
       " 'available',\n",
       " 'available acquiror',\n",
       " 'available company',\n",
       " 'available escrow',\n",
       " 'available indemnifiable',\n",
       " 'available indemnitor',\n",
       " 'available parent',\n",
       " 'available purchaser',\n",
       " 'available section',\n",
       " 'available setting',\n",
       " 'avenue',\n",
       " 'avenue new',\n",
       " 'average',\n",
       " 'avoidance',\n",
       " 'avoidance doubt',\n",
       " 'awarded',\n",
       " 'awarded party',\n",
       " 'aware',\n",
       " 'aware event',\n",
       " 'aware party',\n",
       " 'bad',\n",
       " 'bad fai',\n",
       " 'balance',\n",
       " 'balance indemnified',\n",
       " 'balance sheet',\n",
       " 'bank']"
      ]
     },
     "execution_count": 221,
     "metadata": {},
     "output_type": "execute_result"
    }
   ],
   "source": [
    "# a sampling of words\n",
    "\n",
    "vect.get_feature_names()[1000:1200]"
   ]
  },
  {
   "cell_type": "code",
   "execution_count": 222,
   "metadata": {
    "collapsed": false
   },
   "outputs": [
    {
     "name": "stdout",
     "output_type": "stream",
     "text": [
      "Features:  3069\n",
      "Accuracy:  0.9563492063492064\n"
     ]
    }
   ],
   "source": [
    "# Using lemmas appears to get our highest accuracy\n",
    "\n",
    "vect = CountVectorizer(analyzer=split_into_lemmas, ngram_range=(3), stop_words = 'english')\n",
    "\n",
    "tokenize_test(vect)"
   ]
  },
  {
   "cell_type": "markdown",
   "metadata": {},
   "source": [
    "## 3a. Predictive Model Using Clause Length Also"
   ]
  },
  {
   "cell_type": "code",
   "execution_count": 223,
   "metadata": {
    "collapsed": false
   },
   "outputs": [
    {
     "data": {
      "text/html": [
       "<div>\n",
       "<style scoped>\n",
       "    .dataframe tbody tr th:only-of-type {\n",
       "        vertical-align: middle;\n",
       "    }\n",
       "\n",
       "    .dataframe tbody tr th {\n",
       "        vertical-align: top;\n",
       "    }\n",
       "\n",
       "    .dataframe thead th {\n",
       "        text-align: right;\n",
       "    }\n",
       "</style>\n",
       "<table border=\"1\" class=\"dataframe\">\n",
       "  <thead>\n",
       "    <tr style=\"text-align: right;\">\n",
       "      <th></th>\n",
       "      <th>Length</th>\n",
       "      <th>IsBasket</th>\n",
       "    </tr>\n",
       "  </thead>\n",
       "  <tbody>\n",
       "    <tr>\n",
       "      <th>count</th>\n",
       "      <td>1005.000000</td>\n",
       "      <td>1005.000000</td>\n",
       "    </tr>\n",
       "    <tr>\n",
       "      <th>mean</th>\n",
       "      <td>1086.093532</td>\n",
       "      <td>0.496517</td>\n",
       "    </tr>\n",
       "    <tr>\n",
       "      <th>std</th>\n",
       "      <td>495.642102</td>\n",
       "      <td>0.500237</td>\n",
       "    </tr>\n",
       "    <tr>\n",
       "      <th>min</th>\n",
       "      <td>75.000000</td>\n",
       "      <td>0.000000</td>\n",
       "    </tr>\n",
       "    <tr>\n",
       "      <th>25%</th>\n",
       "      <td>667.000000</td>\n",
       "      <td>0.000000</td>\n",
       "    </tr>\n",
       "    <tr>\n",
       "      <th>50%</th>\n",
       "      <td>1093.000000</td>\n",
       "      <td>0.000000</td>\n",
       "    </tr>\n",
       "    <tr>\n",
       "      <th>75%</th>\n",
       "      <td>1480.000000</td>\n",
       "      <td>1.000000</td>\n",
       "    </tr>\n",
       "    <tr>\n",
       "      <th>max</th>\n",
       "      <td>2094.000000</td>\n",
       "      <td>1.000000</td>\n",
       "    </tr>\n",
       "  </tbody>\n",
       "</table>\n",
       "</div>"
      ],
      "text/plain": [
       "            Length     IsBasket\n",
       "count  1005.000000  1005.000000\n",
       "mean   1086.093532     0.496517\n",
       "std     495.642102     0.500237\n",
       "min      75.000000     0.000000\n",
       "25%     667.000000     0.000000\n",
       "50%    1093.000000     0.000000\n",
       "75%    1480.000000     1.000000\n",
       "max    2094.000000     1.000000"
      ]
     },
     "execution_count": 223,
     "metadata": {},
     "output_type": "execute_result"
    }
   ],
   "source": [
    "df.describe()"
   ]
  },
  {
   "cell_type": "code",
   "execution_count": 147,
   "metadata": {
    "collapsed": false
   },
   "outputs": [
    {
     "data": {
      "text/plain": [
       "CountVectorizer(analyzer='word', binary=False, decode_error='strict',\n",
       "        dtype=<class 'numpy.int64'>, encoding='utf-8', input='content',\n",
       "        lowercase=False, max_df=1.0, max_features=None, min_df=1,\n",
       "        ngram_range=(1, 1), preprocessor=None, stop_words='english',\n",
       "        strip_accents=None, token_pattern='(?u)\\\\b\\\\w\\\\w+\\\\b',\n",
       "        tokenizer=None, vocabulary=None)"
      ]
     },
     "execution_count": 147,
     "metadata": {},
     "output_type": "execute_result"
    }
   ],
   "source": [
    "vect = CountVectorizer(stop_words = 'english', lowercase=False)\n",
    "\n",
    "vect"
   ]
  },
  {
   "cell_type": "code",
   "execution_count": 224,
   "metadata": {
    "collapsed": false
   },
   "outputs": [
    {
     "data": {
      "text/plain": [
       "(753,)"
      ]
     },
     "execution_count": 224,
     "metadata": {},
     "output_type": "execute_result"
    }
   ],
   "source": [
    "X_train.drop(columns='DocClause').shape"
   ]
  },
  {
   "cell_type": "code",
   "execution_count": 226,
   "metadata": {
    "collapsed": true
   },
   "outputs": [],
   "source": [
    "# Let's try looking at the new data we added to see if there are any trends\n",
    "\n",
    "cols = df.columns.drop('DocClause')\n",
    "\n",
    "X_scaled = preprocessing.MinMaxScaler().fit_transform(df[cols]) "
   ]
  },
  {
   "cell_type": "code",
   "execution_count": 228,
   "metadata": {
    "collapsed": false
   },
   "outputs": [
    {
     "data": {
      "text/plain": [
       "<seaborn.axisgrid.PairGrid at 0x1a3d3afa58>"
      ]
     },
     "execution_count": 228,
     "metadata": {},
     "output_type": "execute_result"
    },
    {
     "data": {
      "image/png": "[encoded data removed]",
      "text/plain": [
       "<Figure size 410.125x360 with 6 Axes>"
      ]
     },
     "metadata": {},
     "output_type": "display_data"
    }
   ],
   "source": [
    "# if we look at Location relative to IsBasket, '1's are evenly distributed, making it hard to trend\n",
    "# it does appear that shorter clauses tend to be '0', but it did not seem to affect accuracy much\n",
    "\n",
    "sns.pairplot(df[cols], x_vars=cols, y_vars=cols, hue='IsBasket')"
   ]
  },
  {
   "cell_type": "code",
   "execution_count": 229,
   "metadata": {
    "collapsed": true
   },
   "outputs": [],
   "source": [
    "df['DocClause'] = df['DocClause'].fillna(' ')"
   ]
  },
  {
   "cell_type": "code",
   "execution_count": 231,
   "metadata": {
    "collapsed": true
   },
   "outputs": [],
   "source": [
    "feature_cols = ['DocClause', 'Length']\n",
    "X = df[feature_cols]\n",
    "y = df['IsBasket']\n",
    "\n",
    "# Split the new DataFrame into training and testing sets.\n",
    "X_train, X_test, y_train, y_test = train_test_split(X, y, random_state=2)"
   ]
  },
  {
   "cell_type": "code",
   "execution_count": 232,
   "metadata": {
    "collapsed": false
   },
   "outputs": [
    {
     "name": "stdout",
     "output_type": "stream",
     "text": [
      "(753, 3069)\n",
      "(252, 3069)\n"
     ]
    }
   ],
   "source": [
    "X_train_dtm = vect.fit_transform(X_train['DocClause'])\n",
    "X_test_dtm = vect.transform(X_test['DocClause'])\n",
    "print((X_train_dtm.shape))\n",
    "print((X_test_dtm.shape))"
   ]
  },
  {
   "cell_type": "code",
   "execution_count": 233,
   "metadata": {
    "collapsed": false
   },
   "outputs": [
    {
     "data": {
      "text/plain": [
       "(753, 1)"
      ]
     },
     "execution_count": 233,
     "metadata": {},
     "output_type": "execute_result"
    }
   ],
   "source": [
    "# attempting a logistic regression with multiple variables\n",
    "\n",
    "extra = sp.sparse.csr_matrix(X_train.drop(columns='DocClause').astype(float))\n",
    "extra.shape"
   ]
  },
  {
   "cell_type": "code",
   "execution_count": 234,
   "metadata": {
    "collapsed": false
   },
   "outputs": [
    {
     "data": {
      "text/plain": [
       "(753, 3070)"
      ]
     },
     "execution_count": 234,
     "metadata": {},
     "output_type": "execute_result"
    }
   ],
   "source": [
    "X_train_dtm_extra = sp.sparse.hstack((X_train_dtm, extra))\n",
    "X_train_dtm_extra.shape"
   ]
  },
  {
   "cell_type": "code",
   "execution_count": 235,
   "metadata": {
    "collapsed": false
   },
   "outputs": [
    {
     "data": {
      "text/plain": [
       "(252, 3070)"
      ]
     },
     "execution_count": 235,
     "metadata": {},
     "output_type": "execute_result"
    }
   ],
   "source": [
    "extra = sp.sparse.csr_matrix(X_test.drop(columns='DocClause').astype(float))\n",
    "X_test_dtm_extra = sp.sparse.hstack((X_test_dtm, extra))\n",
    "X_test_dtm_extra.shape"
   ]
  },
  {
   "cell_type": "code",
   "execution_count": 236,
   "metadata": {
    "collapsed": false
   },
   "outputs": [
    {
     "data": {
      "text/plain": [
       "0.9801587301587301"
      ]
     },
     "execution_count": 236,
     "metadata": {},
     "output_type": "execute_result"
    }
   ],
   "source": [
    "logreg = LogisticRegression(C=1e9)\n",
    "\n",
    "logreg.fit(X_train_dtm, y_train)\n",
    "\n",
    "y_pred = logreg.predict(X_test_dtm)\n",
    "\n",
    "metrics.accuracy_score(y_test, y_pred)"
   ]
  },
  {
   "cell_type": "code",
   "execution_count": 237,
   "metadata": {
    "collapsed": false
   },
   "outputs": [
    {
     "data": {
      "text/plain": [
       "0.9722222222222222"
      ]
     },
     "execution_count": 237,
     "metadata": {},
     "output_type": "execute_result"
    }
   ],
   "source": [
    "logreg = LogisticRegression(C=1e9)\n",
    "\n",
    "logreg.fit(X_train_dtm_extra, y_train)\n",
    "\n",
    "y_pred = logreg.predict(X_test_dtm_extra)\n",
    "\n",
    "metrics.accuracy_score(y_test, y_pred)"
   ]
  },
  {
   "cell_type": "markdown",
   "metadata": {},
   "source": [
    "## 4. Just for fun"
   ]
  },
  {
   "cell_type": "code",
   "execution_count": 238,
   "metadata": {
    "collapsed": true
   },
   "outputs": [],
   "source": [
    "# Let's look at what are the most imporatant words found in random clause snippets\n",
    "\n",
    "dtm = vect.fit_transform(df['DocClause'].fillna(' '))\n",
    "features = vect.get_feature_names()"
   ]
  },
  {
   "cell_type": "code",
   "execution_count": 239,
   "metadata": {
    "collapsed": true
   },
   "outputs": [],
   "source": [
    "def summarize():\n",
    "    \n",
    "    # Choose a random review that is at least 300 characters.\n",
    "    review_length = 0\n",
    "    while review_length < 300:\n",
    "        review_id = np.random.randint(0, len(df))\n",
    "        review_text = df['DocClause'][review_id]\n",
    "        review_length = len(review_text)\n",
    "    \n",
    "    # Create a dictionary of words and their TF–IDF scores.\n",
    "    word_scores = {}\n",
    "    for word in re.compile('\\w+').findall(review_text):\n",
    "        word = word.lower()\n",
    "        if word in features:\n",
    "            word_scores[word] = dtm[review_id, features.index(word)]\n",
    "    \n",
    "    # Print words with the top five TF–IDF scores.\n",
    "    print('TOP SCORING WORDS:')\n",
    "    top_scores = sorted(list(word_scores.items()), key=lambda x: x[1], reverse=True)[:5]\n",
    "    for word, score in top_scores:\n",
    "        print(word)\n",
    "    \n",
    "    # Print five random words.\n",
    "    print(('\\n' + 'RANDOM WORDS:'))\n",
    "    random_words = np.random.choice(list(word_scores.keys()), size=5, replace=False)\n",
    "    for word in random_words:\n",
    "        print(word)\n",
    "    \n",
    "    # Print the review.\n",
    "    print(('\\n' + review_text))"
   ]
  },
  {
   "cell_type": "code",
   "execution_count": 240,
   "metadata": {
    "collapsed": false
   },
   "outputs": [
    {
     "name": "stdout",
     "output_type": "stream",
     "text": [
      "TOP SCORING WORDS:\n",
      "the\n",
      "to\n",
      "and\n",
      "5\n",
      "in\n",
      "\n",
      "RANDOM WORDS:\n",
      "5\n",
      "nothing\n",
      "seek\n",
      "as\n",
      "6\n",
      "\n",
      "ARTICLE 5 INDEMNIFICATION; REMEDIES ➤ 5.8. Exclusive Remedy; Further Limitations\n",
      "5.8. Exclusive Remedy; Further Limitations . Except with respect to fraud, the right to seek specific performance or injunctive relief to enforce a party's covenants and obligations in any Transaction Agreement or as provided in Section 4.13(c) and Section 6.2 , the indemnification provisions set forth in this Article 5 shall be the sole and exclusive remedy of the parties hereto with respect to any and all claims from and after the Closing Date arising out of the subject matter of this Agreement. For the avoidance of doubt, nothing contained in this Agreement shall be construed to limit the P...\n",
      "\n"
     ]
    }
   ],
   "source": [
    "summarize()"
   ]
  },
  {
   "cell_type": "code",
   "execution_count": null,
   "metadata": {
    "collapsed": true
   },
   "outputs": [],
   "source": []
  }
 ],
 "metadata": {
  "kernelspec": {
   "display_name": "Python 2",
   "language": "python",
   "name": "python2"
  },
  "language_info": {
   "codemirror_mode": {
    "name": "ipython",
    "version": 2
   },
   "file_extension": ".py",
   "mimetype": "text/x-python",
   "name": "python",
   "nbconvert_exporter": "python",
   "pygments_lexer": "ipython2",
   "version": "2.7.14"
  }
 },
 "nbformat": 4,
 "nbformat_minor": 2
}
